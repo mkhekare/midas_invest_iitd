{
 "cells": [
  {
   "cell_type": "code",
   "execution_count": 4,
   "id": "95d14fa0-8e8d-4930-bcec-43beeb4024ce",
   "metadata": {},
   "outputs": [
    {
     "name": "stdout",
     "output_type": "stream",
     "text": [
      "Model Mean Squared Error: 0.17489566666666584\n",
      "Model saved as investability_model.pkl\n"
     ]
    }
   ],
   "source": [
    "import pandas as pd\n",
    "import numpy as np\n",
    "from sklearn.model_selection import train_test_split\n",
    "from sklearn.ensemble import RandomForestRegressor\n",
    "from sklearn.metrics import mean_squared_error\n",
    "import joblib\n",
    "\n",
    "# Load dataset\n",
    "file_path = \"Sample_Investability_Index_Dataset.csv\"\n",
    "df = pd.read_csv(file_path)\n",
    "\n",
    "# Define allocated credits for each parameter\n",
    "allocated_credits = {\n",
    "    \"Market Growth Potential\": 12,\n",
    "    \"Profitability\": 10,\n",
    "    \"Competitive Advantage\": 10,\n",
    "    \"Management Quality\": 8,\n",
    "    \"Innovation and R&D\": 8,\n",
    "    \"Regulatory Environment\": 6,\n",
    "    \"Financial Stability\": 4,\n",
    "    \"Sustainability and ESG\": 2\n",
    "}\n",
    "\n",
    "# Compute Investability Index Score (Corrected Calculation)\n",
    "df[\"Investability Index\"] = df.apply(\n",
    "    lambda row: sum(row[param] * allocated_credits[param] for param in allocated_credits) / sum(allocated_credits.values()), axis=1\n",
    ")\n",
    "\n",
    "# Define features (X) and target (y)\n",
    "features = list(allocated_credits.keys())  # Use parameter names as features\n",
    "X = df[features]\n",
    "y = df[\"Investability Index\"]\n",
    "\n",
    "# Split data into training and test sets\n",
    "X_train, X_test, y_train, y_test = train_test_split(X, y, test_size=0.2, random_state=42)\n",
    "\n",
    "# Train the model (Random Forest Regressor)\n",
    "model = RandomForestRegressor(n_estimators=100, random_state=42)\n",
    "model.fit(X_train, y_train)\n",
    "\n",
    "# Evaluate the model\n",
    "y_pred = model.predict(X_test)\n",
    "mse = mean_squared_error(y_test, y_pred)\n",
    "print(f\"Model Mean Squared Error: {mse}\")\n",
    "\n",
    "# Save the trained model\n",
    "joblib.dump(model, \"investability_model.pkl\")\n",
    "print(\"Model saved as investability_model.pkl\")\n"
   ]
  },
  {
   "cell_type": "code",
   "execution_count": null,
   "id": "3f4bb2eb-674b-4ec8-b4bc-9756a1decd66",
   "metadata": {},
   "outputs": [],
   "source": []
  }
 ],
 "metadata": {
  "kernelspec": {
   "display_name": "Python 3 (ipykernel)",
   "language": "python",
   "name": "python3"
  },
  "language_info": {
   "codemirror_mode": {
    "name": "ipython",
    "version": 3
   },
   "file_extension": ".py",
   "mimetype": "text/x-python",
   "name": "python",
   "nbconvert_exporter": "python",
   "pygments_lexer": "ipython3",
   "version": "3.12.7"
  }
 },
 "nbformat": 4,
 "nbformat_minor": 5
}
